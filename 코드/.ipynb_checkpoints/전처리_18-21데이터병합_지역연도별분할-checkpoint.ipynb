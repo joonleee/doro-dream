{
 "cells": [
  {
   "cell_type": "code",
   "execution_count": 1,
   "id": "46d839d3",
   "metadata": {},
   "outputs": [],
   "source": [
    "# 18~20년 데이터와 21년 데이터 병합하고\n",
    "# 지역별로 18, 19, 20, 21년 dataframe 추출 및 저장."
   ]
  },
  {
   "cell_type": "code",
   "execution_count": null,
   "id": "ecb0a275",
   "metadata": {},
   "outputs": [],
   "source": [
    "# 사용 패키지\n",
    "import pandas as pd"
   ]
  },
  {
   "cell_type": "code",
   "execution_count": null,
   "id": "b2e27469",
   "metadata": {},
   "outputs": [],
   "source": [
    "# 사용 변수\n",
    "csvs = ['2018~2020_강원도_보행자사고.csv',\n",
    "'2018~2020_경기도_보행자사고.csv',\n",
    "'2018~2020_경상남도_보행자사고.csv',\n",
    "'2018~2020_경상북도_보행자사고.csv',\n",
    "'2018~2020_광주광역시_보행자사고.csv',\n",
    "'2018~2020_대구광역시_보행자사고.csv',\n",
    "'2018~2020_대전광역시_보행자사고.csv',\n",
    "'2018~2020_부산광역시_보행자사고.csv',\n",
    "'2018~2020_서울특별시_보행자사고.csv',\n",
    "'2018~2020_세종특별자치시_보행자사고.csv',\n",
    "'2018~2020_울산광역시_보행자사고.csv',\n",
    "'2018~2020_인천광역시_보행자사고.csv',\n",
    "'2018~2020_전라남도_보행자사고.csv',\n",
    "'2018~2020_전라북도_보행자사고.csv',\n",
    "'2018~2020_제주도_보행자사고.csv',\n",
    "'2018~2020_충청남도_보행자사고.csv',\n",
    "'2018~2020_충청북도_보행자사고.csv',\n",
    "'2021_강원도_보행자사고.csv',\n",
    "'2021_경기도_보행자사고.csv',\n",
    "'2021_경상남도_보행자사고.csv',\n",
    "'2021_경상북도_보행자사고.csv',\n",
    "'2021_광주광역시_보행자사고.csv',\n",
    "'2021_대구광역시_보행자사고.csv',\n",
    "'2021_대전광역시_보행자사고.csv',\n",
    "'2021_부산광역시_보행자사고.csv',\n",
    "'2021_서울특별시_보행자사고.csv',\n",
    "'2021_세종특별자치시_보행자사고.csv',\n",
    "'2021_울산광역시_보행자사고.csv',\n",
    "'2021_인천광역시_보행자사고.csv',\n",
    "'2021_전라남도_보행자사고.csv',\n",
    "'2021_전라북도_보행자사고.csv',\n",
    "'2021_제주도_보행자사고.csv',\n",
    "'2021_충청남도_보행자사고.csv',\n",
    "'2021_충청북도_보행자사고.csv']\n",
    "\n",
    "uniqueRegion = ['강원도',\n",
    "'경기도',\n",
    "'경상남도',\n",
    "'경상북도',\n",
    "'광주광역시',\n",
    "'대구광역시',\n",
    "'대전광역시',\n",
    "'부산광역시',\n",
    "'서울특별시',\n",
    "'세종특별자치시',\n",
    "'울산광역시',\n",
    "'인천광역시',\n",
    "'전라남도',\n",
    "'전라북도',\n",
    "'제주도',\n",
    "'충청남도',\n",
    "'충청북도']"
   ]
  },
  {
   "cell_type": "code",
   "execution_count": null,
   "id": "233ed3d1",
   "metadata": {},
   "outputs": [],
   "source": [
    "# 18~20년 데이터 21년데이 병합 후 따로 연도별로 나눔\n",
    "for reg in uniqueRegion:\n",
    "    twoyears=[]\n",
    "    for file in csvs:\n",
    "        if reg in file:\n",
    "            aa = pd.read_csv(f'/Users/pogo/doro-dream/교통사고정보_보행자사고/{file}')\n",
    "            twoyears.append(aa)\n",
    "    df1821 = pd.concat(twoyears)\n",
    "    df18 = df1821[(df1821['사고일시'] >= '2018-01-01') & (df1821['사고일시'] < '2019-01-01')]\n",
    "    df19 = df1821[(df1821['사고일시'] >= '2019-01-01') & (df1821['사고일시'] < '2020-01-01')]\n",
    "    df20 = df1821[(df1821['사고일시'] >= '2020-01-01') & (df1821['사고일시'] < '2021-01-01')]\n",
    "    df21 = df1821[(df1821['사고일시'] >= '2021-01-01') & (df1821['사고일시'] < '2022-01-01')]\n",
    "\n",
    "    # 지역별 연도별 데이터 따로 저장함\n",
    "#     df1821.to_csv(f'/Users/pogo/doro-dream/교통사고정보_보행자사고/연별/{reg}_all.csv')  \n",
    "#     df18.to_csv(f'/Users/pogo/doro-dream/교통사고정보_보행자사고/연별/{reg}_18.csv')   \n",
    "#     df19.to_csv(f'/Users/pogo/doro-dream/교통사고정보_보행자사고/연별/{reg}_19.csv')  \n",
    "#     df20.to_csv(f'/Users/pogo/doro-dream/교통사고정보_보행자사고/연별/{reg}_20.csv')  \n",
    "#     df21.to_csv(f'/Users/pogo/doro-dream/교통사고정보_보행자사고/연별/{reg}_21.csv')  "
   ]
  },
  {
   "cell_type": "code",
   "execution_count": null,
   "id": "98387ff1",
   "metadata": {},
   "outputs": [],
   "source": [
    "# 저장된 지역별 연도별 데이터 불러오는 함수\n",
    "def get_yearly_df(reg):\n",
    "    df1821 = pd.read_csv(f'/Users/pogo/doro-dream/교통사고정보_보행자사고/연별/{reg}_all.csv')\n",
    "    df18 = df1821[(df1821['사고일시'] >= '2018-01-01') & (df1821['사고일시'] < '2019-01-01')]\n",
    "    df19 = df1821[(df1821['사고일시'] >= '2019-01-01') & (df1821['사고일시'] < '2020-01-01')]\n",
    "    df20 = df1821[(df1821['사고일시'] >= '2020-01-01') & (df1821['사고일시'] < '2021-01-01')]\n",
    "    df21 = df1821[(df1821['사고일시'] >= '2021-01-01') & (df1821['사고일시'] < '2022-01-01')]\n",
    "    return df1821, df18, df19, df20, df21\n",
    "\n",
    "# 예) 대구광역시 데이터 가져오기\n",
    "# df1821, df18, df19, df20, df21 = get_yearly_df('대구광역시')"
   ]
  }
 ],
 "metadata": {
  "kernelspec": {
   "display_name": "Python 3 (ipykernel)",
   "language": "python",
   "name": "python3"
  },
  "language_info": {
   "codemirror_mode": {
    "name": "ipython",
    "version": 3
   },
   "file_extension": ".py",
   "mimetype": "text/x-python",
   "name": "python",
   "nbconvert_exporter": "python",
   "pygments_lexer": "ipython3",
   "version": "3.9.15"
  }
 },
 "nbformat": 4,
 "nbformat_minor": 5
}
