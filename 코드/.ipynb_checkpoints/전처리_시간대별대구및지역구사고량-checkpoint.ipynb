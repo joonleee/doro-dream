{
 "cells": [
  {
   "cell_type": "code",
   "execution_count": null,
   "id": "6bd2fa92",
   "metadata": {},
   "outputs": [],
   "source": [
    "# 사용 패키지\n",
    "import pandas as pd"
   ]
  },
  {
   "cell_type": "code",
   "execution_count": null,
   "id": "a48c7889",
   "metadata": {},
   "outputs": [],
   "source": [
    "# 사용 변수\n",
    "# 교통사고분석시스템에서 받아온 21년 대구 보행자 사고 (사망 + 부상자) 총 2116건\n",
    "df = pd.read_csv('/Users/pogo/Downloads/itTimeSigungu.csv')"
   ]
  },
  {
   "cell_type": "code",
   "execution_count": null,
   "id": "20b9c82a",
   "metadata": {},
   "outputs": [],
   "source": [
    "# 사고번호, 사고일시, 시군구만 사용한다\n",
    "new_df = df[['사고번호', '사고일시', '시군구']]\n",
    "\n",
    "# 시군구만 따로 저장\n",
    "sigun_df = new_df.sort_values('시군구')\n",
    "sigun=sigun_df['시군구']\n",
    "\n",
    "# 구단위로 저장\n",
    "tmp_list = []\n",
    "for s in sigun:\n",
    "    tmp_list.append(s.split()[1])\n",
    "sigun_df['구'] = tmp_list\n",
    "\n",
    "# df 정리\n",
    "ordered_sigun_df = sigun_df.sort_values('사고번호')"
   ]
  },
  {
   "cell_type": "code",
   "execution_count": null,
   "id": "1b776859",
   "metadata": {},
   "outputs": [],
   "source": [
    "# 구변수 지정\n",
    "gu = {'남구': 0,\n",
    "'달서구': 1,\n",
    "'달성군': 2,\n",
    "'동구': 3,\n",
    "'북구': 4,\n",
    "'서구': 5,\n",
    "'수성구': 6,\n",
    "'중구': 7}\n",
    "\n",
    "ordered_sigun_df['구변수']=ordered_sigun_df['구'].map(gu)"
   ]
  },
  {
   "cell_type": "code",
   "execution_count": null,
   "id": "99102bd7",
   "metadata": {},
   "outputs": [],
   "source": [
    "# 시간대 추출\n",
    "tmp=[]\n",
    "for x in ordered_sigun_df['사고일시'].values:\n",
    "    tmp.append(x[-3:-1])\n",
    "\n",
    "ordered_sigun_df['시간'] = [int(t) for t in tmp]"
   ]
  },
  {
   "cell_type": "code",
   "execution_count": null,
   "id": "123443fe",
   "metadata": {},
   "outputs": [],
   "source": [
    "# 시간대에 일어난 대구 전체 사고량\n",
    "time_all = ordered_sigun_df.groupby('시간')['시간'].count()\n",
    "\n",
    "ordered_sigun_df['시간별사고(전체)'] = ordered_sigun_df['시간'].map(time_all)"
   ]
  },
  {
   "cell_type": "code",
   "execution_count": null,
   "id": "ddb3d2b4",
   "metadata": {
    "scrolled": true
   },
   "outputs": [],
   "source": [
    "# 시간대에 일어난 해당 구 사고량\n",
    "test_df = ordered_sigun_df\n",
    "listOfDf = []\n",
    "\n",
    "for reg in test_df['구변수'].unique():\n",
    "    sub_df = test_df[test_df['구변수']==reg]\n",
    "    time_sub = sub_df.groupby('시간')['시간'].count()\n",
    "    sub_df['시간별사고(구)']=sub_df.loc[sub_df['구변수']==reg]['시간'].map(time_sub)\n",
    "    listOfDf.append(sub_df)\n",
    "    \n",
    "last_df = pd.DataFrame(columns=['사고번호','사고일시', '시군구', '구', '구변수', '시간', '시간별사고(전체)', '시간별사고(구)'])\n",
    "\n",
    "for i in range(0, len(listOfDf[0:])):\n",
    "    last_df = pd.concat([last_df, listOfDf[0:][i]])\n",
    "    \n",
    "last_df = last_df.sort_values('사고번호')"
   ]
  },
  {
   "cell_type": "code",
   "execution_count": null,
   "id": "6af5dcca",
   "metadata": {},
   "outputs": [],
   "source": [
    "last_df.to_csv('/Users/pogo/bigData/gmj/accByTime.csv')"
   ]
  }
 ],
 "metadata": {
  "kernelspec": {
   "display_name": "Python 3 (ipykernel)",
   "language": "python",
   "name": "python3"
  },
  "language_info": {
   "codemirror_mode": {
    "name": "ipython",
    "version": 3
   },
   "file_extension": ".py",
   "mimetype": "text/x-python",
   "name": "python",
   "nbconvert_exporter": "python",
   "pygments_lexer": "ipython3",
   "version": "3.9.15"
  }
 },
 "nbformat": 4,
 "nbformat_minor": 5
}
