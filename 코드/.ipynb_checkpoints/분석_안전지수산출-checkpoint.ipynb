{
 "cells": [
  {
   "cell_type": "code",
   "execution_count": null,
   "id": "6ab78740",
   "metadata": {},
   "outputs": [],
   "source": [
    "# 사용 패키지\n",
    "import pandas as pd\n",
    "from sklearn.preprocessing import minmax_scale"
   ]
  },
  {
   "cell_type": "code",
   "execution_count": null,
   "id": "f170cac0",
   "metadata": {},
   "outputs": [],
   "source": [
    "# 사용 변수\n",
    "region = ['강원도',\n",
    "'경기도',\n",
    "'경상남도',\n",
    "'경상북도',\n",
    "'광주광역시',\n",
    "'대구광역시',\n",
    "'대전광역시',\n",
    "'부산광역시',\n",
    "'서울특별시',\n",
    "'세종특별자치시',\n",
    "'울산광역시',\n",
    "'인천광역시',\n",
    "'전라남도',\n",
    "'전라북도',\n",
    "'제주도',\n",
    "'충청남도',\n",
    "'충청북도']\n",
    "\n",
    "year=[18, 19, 20, 21]\n",
    "file_accident = {}\n",
    "\n",
    "score_df = pd.DataFrame(columns=['2018', '2019', '2020', '2021'])\n",
    "minmax_df = pd.DataFrame(columns=['2018', '2019', '2020', '2021'])"
   ]
  },
  {
   "cell_type": "code",
   "execution_count": null,
   "id": "5721aec4",
   "metadata": {
    "scrolled": true
   },
   "outputs": [],
   "source": [
    "# 지역별 사망자수, 부상자수, 총인구 추출하여 score_df에 저장\n",
    "for reg in region:\n",
    "    tmp=[]\n",
    "    for yr in year:\n",
    "        df = pd.read_csv(f'/Users/pogo/doro-dream/교통사고정보_보행자사고/연별/{reg}_all.csv')\n",
    "        df =  df[(df['사고일시'] >= f'20{yr}-01-01') & (df['사고일시'] < f'20{yr+1}-01-01')]\n",
    "        death = sum(df['사망자수'])\n",
    "        injury = sum(df['중상자수'])+sum(df['경상자수'])+sum(df['부상신고자수'])\n",
    "#         print(reg, yr, death, injury)\n",
    "        pop = pd.read_csv(f'/Users/pogo/doro-dream/행정안전부_주민등록인구통계/201712_202112_주민등록인구및세대현황_연간_{reg}.csv')\n",
    "        pop = pop[f'20{yr}년_총인구수'].str.replace(',','').astype(int)\n",
    "        tot_pop = pop[0]\n",
    "        \n",
    "        tp_score = (((death*4) + (injury*1))/tot_pop)*100000\n",
    "        tmp.append(tp_score)\n",
    "    score_df.loc[reg] = tmp"
   ]
  },
  {
   "cell_type": "code",
   "execution_count": null,
   "id": "5b84676c",
   "metadata": {},
   "outputs": [],
   "source": [
    "score_df"
   ]
  },
  {
   "cell_type": "code",
   "execution_count": null,
   "id": "a973770a",
   "metadata": {},
   "outputs": [],
   "source": [
    "# minmax 후 지역별 연도별 안전지수 저장\n",
    "for yr in year:\n",
    "    minmax_df[f'20{yr}'] = minmax_scale(score_df[f'20{yr}'])\n",
    "minmax_df.index = region\n",
    "\n",
    "# minmax_df.to_csv('/Users/pogo/doro-dream/교통사고정보_보행자사고/연별/지역_연도별_안전지수_minmax.csv')"
   ]
  },
  {
   "cell_type": "code",
   "execution_count": null,
   "id": "f8744b4e",
   "metadata": {},
   "outputs": [],
   "source": [
    "minmax_df"
   ]
  }
 ],
 "metadata": {
  "kernelspec": {
   "display_name": "Python 3 (ipykernel)",
   "language": "python",
   "name": "python3"
  },
  "language_info": {
   "codemirror_mode": {
    "name": "ipython",
    "version": 3
   },
   "file_extension": ".py",
   "mimetype": "text/x-python",
   "name": "python",
   "nbconvert_exporter": "python",
   "pygments_lexer": "ipython3",
   "version": "3.9.15"
  }
 },
 "nbformat": 4,
 "nbformat_minor": 5
}
