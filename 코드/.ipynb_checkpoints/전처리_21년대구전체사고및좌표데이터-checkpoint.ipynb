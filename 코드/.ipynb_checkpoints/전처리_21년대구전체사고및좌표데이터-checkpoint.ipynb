{
 "cells": [
  {
   "cell_type": "code",
   "execution_count": null,
   "id": "4bef6a74",
   "metadata": {},
   "outputs": [],
   "source": [
    "# 사망자 사고는 좌표까지 포함돼 있지만 부상자 사고는 좌표가 없다\n",
    "# 직접 부상자 사고 좌표를 긁어와 사망자 데이터와 부상자 데이터를 합친다."
   ]
  },
  {
   "cell_type": "code",
   "execution_count": null,
   "id": "7c0eb3e6",
   "metadata": {},
   "outputs": [],
   "source": [
    "# 사용 패키지\n",
    "import numpy as np\n",
    "import pandas as pd"
   ]
  },
  {
   "cell_type": "code",
   "execution_count": null,
   "id": "7789446f",
   "metadata": {},
   "outputs": [],
   "source": [
    "# 교ㅕ통사고문선시스템에서 가져온 21녀도 보행자 사망 및 부상자 데이터\n",
    "death21 = pd.read_csv('/Users/pogo/Downloads/21_deaths_dg.csv')\n",
    "injury21 = pd.read_csv('/Users/pogo/Downloads/21_accidents_dg.csv')\n",
    "\n",
    "# 직접 보행자 부상자 사고의 좌표를 긁어온 데이터\n",
    "namgu = pd.read_csv(f'/Users/pogo/doro-dream/대구보행자사고gps/남구.txt')\n",
    "dalsuh = pd.read_csv(f'/Users/pogo/doro-dream/대구보행자사고gps/달서구.txt')\n",
    "dalsung = pd.read_csv(f'/Users/pogo/doro-dream/대구보행자사고gps/달성군.txt')\n",
    "donggu = pd.read_csv(f'/Users/pogo/doro-dream/대구보행자사고gps/동구.txt')\n",
    "bukgu = pd.read_csv(f'/Users/pogo/doro-dream/대구보행자사고gps/북구.txt')\n",
    "seogu = pd.read_csv(f'/Users/pogo/doro-dream/대구보행자사고gps/서구.txt')\n",
    "susunggu = pd.read_csv(f'/Users/pogo/doro-dream/대구보행자사고gps/수성구.txt')\n",
    "junggu = pd.read_csv(f'/Users/pogo/doro-dream/대구보행자사고gps/중구.txt')\n",
    "death = pd.read_csv(f'/Users/pogo/doro-dream/대구보행자사고gps/사망자.txt')"
   ]
  },
  {
   "cell_type": "code",
   "execution_count": null,
   "id": "47d7b568",
   "metadata": {},
   "outputs": [],
   "source": [
    "# 불필요한 칼럼 지우고 시군구에서 구만 뽑아오기\n",
    "injury21 = injury21[['사고번호', '사고일시', '시군구']]\n",
    "injury21['구'] = [injury21['시군구'].str.split()[x][1] for x in range(0,len(injury21))]\n",
    "\n",
    "death21 = death21[['사고번호', '사고일시', '시군구']]\n",
    "death21['구'] = [death21['시군구'].str.split()[x][1] for x in range(0,len(death21))]"
   ]
  },
  {
   "cell_type": "code",
   "execution_count": null,
   "id": "7eb79a37",
   "metadata": {},
   "outputs": [],
   "source": [
    "# 순서대로 따온 사고 좌표를 순서대로 알맞는 구에 입력한다\n",
    "namgu21 = injury21[injury21['구']=='남구']\n",
    "namgu21['lat'] = namgu.lat.values\n",
    "namgu21['long'] = namgu.long.values\n",
    "\n",
    "dalsuh21 = injury21[injury21['구']=='달서구']\n",
    "dalsuh21['lat'] = dalsuh.lat.values\n",
    "dalsuh21['long'] = dalsuh.long.values\n",
    "\n",
    "dalsung21 = injury21[injury21['구']=='달성군']\n",
    "dalsung21['lat'] = dalsung.lat.values\n",
    "dalsung21['long'] = dalsung.long.values\n",
    "\n",
    "donggu21 = injury21[injury21['구']=='동구']\n",
    "donggu21['lat'] = donggu.lat.values\n",
    "donggu21['long'] = donggu.long.values\n",
    "\n",
    "bukgu21 = injury21[injury21['구']=='북구']\n",
    "bukgu21['lat'] = bukgu.lat.values\n",
    "bukgu21['long'] = bukgu.long.values\n",
    "\n",
    "seogu21 = injury21[injury21['구']=='서구']\n",
    "seogu21['lat'] = seogu.lat.values\n",
    "seogu21['long'] = seogu.long.values\n",
    "\n",
    "susunggu21 = injury21[injury21['구']=='수성구']\n",
    "susunggu21['lat'] = susunggu.lat.values\n",
    "susunggu21['long'] = susunggu.long.values\n",
    "\n",
    "junggu21 = injury21[injury21['구']=='중구']\n",
    "junggu21['lat'] = junggu.lat.values\n",
    "junggu21['long'] = junggu.long.values\n",
    "\n",
    "death21 = death21[['사고번호', '사고일시', '시군구']]\n",
    "death21['lat'] = death.lat.values\n",
    "death21['long'] = death.long.values"
   ]
  },
  {
   "cell_type": "code",
   "execution_count": null,
   "id": "09bdcdc1",
   "metadata": {},
   "outputs": [],
   "source": [
    "# 사고번호, 사고일시, 시군구, 수, lat, long의 dataframe을 만들고 저장\n",
    "new_df = pd.DataFrame(columns=['사고번호', '사고일시', '시군구', '구', 'lat', 'long'])\n",
    "dfs = [namgu21,\n",
    "dalsuh21,\n",
    "dalsung21,\n",
    "donggu21,\n",
    "bukgu21,\n",
    "seogu21,\n",
    "susunggu21,\n",
    "junggu21,\n",
    "death21]\n",
    "\n",
    "for df in dfs:\n",
    "    new_df = pd.concat([new_df, df])\n",
    "    \n",
    "new_df = new_df.sort_values('사고번호')\n",
    "new_df.to_csv('/Users/pogo/bigData/gmj/data/전체사고및좌표.csv')"
   ]
  },
  {
   "cell_type": "code",
   "execution_count": null,
   "id": "2ffc3569",
   "metadata": {},
   "outputs": [],
   "source": [
    "# 사고 시간대를 따로 추출하여 칼럼으로 두기\n",
    "time_df = new_df\n",
    "tmp=[]\n",
    "for x in time_df['사고일시'].values:\n",
    "    tmp.append(x[-3:-1])\n",
    "\n",
    "time_df['시간'] = [int(t) for t in tmp]\n",
    "time_df.to_csv('/Users/pogo/bigData/gmj/data/사고지역시간좌표.csv')"
   ]
  },
  {
   "cell_type": "code",
   "execution_count": null,
   "id": "4c1f2783",
   "metadata": {},
   "outputs": [],
   "source": []
  }
 ],
 "metadata": {
  "kernelspec": {
   "display_name": "Python 3 (ipykernel)",
   "language": "python",
   "name": "python3"
  },
  "language_info": {
   "codemirror_mode": {
    "name": "ipython",
    "version": 3
   },
   "file_extension": ".py",
   "mimetype": "text/x-python",
   "name": "python",
   "nbconvert_exporter": "python",
   "pygments_lexer": "ipython3",
   "version": "3.9.15"
  }
 },
 "nbformat": 4,
 "nbformat_minor": 5
}
